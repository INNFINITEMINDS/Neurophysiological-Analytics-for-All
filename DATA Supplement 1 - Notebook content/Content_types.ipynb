{
 "cells": [
  {
   "cell_type": "markdown",
   "metadata": {},
   "source": [
    "<a id='section5'></a>\n",
    "# Index\n",
    "1. [***Checking Packages***](#section1)\n",
    "2. [***Notebook content***](#section2)\n",
    "3. [***Importing and Exporting data***](#section3)   \n",
    "4. [***Saving notebooks***](#section4)\n",
    "\n",
    "----------------   \n",
    "\n",
    "----------------    "
   ]
  },
  {
   "cell_type": "markdown",
   "metadata": {},
   "source": [
    "<a id='section1'></a>\n",
    "## ***(1) Checking Packages***\n",
    "##### [back to top](#section5)"
   ]
  },
  {
   "cell_type": "code",
   "execution_count": 1,
   "metadata": {
    "collapsed": false
   },
   "outputs": [
    {
     "name": "stdout",
     "output_type": "stream",
     "text": [
      "2.7.11 |Anaconda 2.5.0 (64-bit)| (default, Dec  6 2015, 18:08:32) \n",
      "[GCC 4.4.7 20120313 (Red Hat 4.4.7-1)]\n"
     ]
    }
   ],
   "source": [
    "# Which version of Python is installed?\n",
    "import sys\n",
    "print(sys.version)"
   ]
  },
  {
   "cell_type": "code",
   "execution_count": 2,
   "metadata": {
    "collapsed": false
   },
   "outputs": [
    {
     "name": "stdout",
     "output_type": "stream",
     "text": [
      "pandas 0.17.1\n",
      "numpy 1.10.4\n",
      "matplotlib 1.5.1\n",
      "neo 0.3.3\n",
      "ipython-genutils 0.1.0\n",
      "ipython 4.1.1\n"
     ]
    }
   ],
   "source": [
    "# Which package versions are installed?\n",
    "import pip\n",
    "all_packages = pip.get_installed_distributions()\n",
    "used_packages = ['pandas', 'numpy','matplotlib','neo','ipython']\n",
    "\n",
    "for entry in used_packages:\n",
    "    for p in all_packages:\n",
    "        if entry in str(p):\n",
    "            print(str(p))\n"
   ]
  },
  {
   "cell_type": "markdown",
   "metadata": {},
   "source": [
    "### ***a. Markdown***"
   ]
  },
  {
   "cell_type": "markdown",
   "metadata": {},
   "source": [
    "### a list\n",
    "* one\n",
    "* two \n",
    "* three\n",
    "\n",
    "### some links\n",
    "[a website ... PubMed](https://www.ncbi.nlm.nih.gov/pubmed/)   \n",
    "[another notebook](R_Statistics.ipynb) ... statistical analysis using R\n"
   ]
  },
  {
   "cell_type": "markdown",
   "metadata": {},
   "source": [
    "<a id='section2'></a>\n",
    "## ***(2) Notebook content***\n",
    "##### [back to top](#section5)"
   ]
  },
  {
   "cell_type": "markdown",
   "metadata": {},
   "source": [
    "### ***b. Raw text***"
   ]
  },
  {
   "cell_type": "raw",
   "metadata": {},
   "source": [
    "1. Nat Rev Neurosci. 2010 Jun;11(6):429-36. doi: 10.1038/nrn2835. Epub 2010 May 6.\n",
    "\n",
    "Insights into the life and work of Sir Charles Sherrington.\n",
    "\n",
    "Molnár Z(1), Brown RE.\n",
    "\n",
    "Author information: \n",
    "(1)Zoltán Molnár is at the Department of Physiology, Anatomy and Genetics, Le\n",
    "Gros Clark Building, University of Oxford, Oxford OX1 3QX, UK.\n",
    "zoltan.molnar@dpag.ox.ac.uk\n",
    "\n",
    "Much of the original historical data behind the greatest discoveries in\n",
    "neuroscience are now lost. However, a recently rediscovered box of histological\n",
    "slides belonging to Sir Charles Sherrington, a pioneer in spinal cord and motor\n",
    "control research, has survived at the University of Oxford since 1936.\n",
    "Sherrington coined the term 'synapse', developed the concept of inhibition in\n",
    "neuronal function, demonstrated the integration of sensory and motor actions of\n",
    "the nervous system, and examined the synaptic activity of single neurons and\n",
    "their integration into neuronal circuits. Here, we explore Sherrington's lifetime\n",
    "of discoveries, with reference to histological specimens from his box of slides.\n",
    "\n",
    "PMID: 20445541  [PubMed - indexed for MEDLINE]"
   ]
  },
  {
   "cell_type": "markdown",
   "metadata": {},
   "source": [
    "### ***c. Headings***"
   ]
  },
  {
   "cell_type": "markdown",
   "metadata": {},
   "source": [
    "# ... first level heading"
   ]
  },
  {
   "cell_type": "markdown",
   "metadata": {},
   "source": [
    "## ... second level heading"
   ]
  },
  {
   "cell_type": "markdown",
   "metadata": {},
   "source": [
    "### ... third level heading"
   ]
  },
  {
   "cell_type": "markdown",
   "metadata": {},
   "source": [
    "### ***d. Code***"
   ]
  },
  {
   "cell_type": "code",
   "execution_count": 3,
   "metadata": {
    "collapsed": false
   },
   "outputs": [
    {
     "data": {
      "text/plain": [
       "1"
      ]
     },
     "execution_count": 3,
     "metadata": {},
     "output_type": "execute_result"
    }
   ],
   "source": [
    "#This is code\n",
    "x = 1\n",
    "x"
   ]
  },
  {
   "cell_type": "code",
   "execution_count": 4,
   "metadata": {
    "collapsed": false
   },
   "outputs": [
    {
     "data": {
      "image/jpeg": "[encoded data removed]",
      "text/plain": [
       "<IPython.core.display.Image object>"
      ]
     },
     "execution_count": 4,
     "metadata": {},
     "output_type": "execute_result"
    }
   ],
   "source": [
    "# using python code to import an image\n",
    "from IPython.display import Image\n",
    "Image(filename='DATA_FILES/Sherrington.jpg')\n",
    "# image from the George Grantham Bain Collection (Library of Congress).\n",
    "# http://www.loc.gov/pictures/collection/ggbain/item/ggb2006010941/"
   ]
  },
  {
   "cell_type": "code",
   "execution_count": 5,
   "metadata": {
    "collapsed": false
   },
   "outputs": [
    {
     "data": {
      "text/html": [
       "\n",
       "        <iframe\n",
       "            width=\"800\"\n",
       "            height=\"400\"\n",
       "            src=\"https://www.ncbi.nlm.nih.gov/pubmed/?term=Python+software\"\n",
       "            frameborder=\"0\"\n",
       "            allowfullscreen\n",
       "        ></iframe>\n",
       "        "
      ],
      "text/plain": [
       "<IPython.lib.display.IFrame at 0x7f8e9fc09910>"
      ]
     },
     "execution_count": 5,
     "metadata": {},
     "output_type": "execute_result"
    }
   ],
   "source": [
    "# using python code to display a website\n",
    "from IPython.display import IFrame\n",
    "IFrame('https://www.ncbi.nlm.nih.gov/pubmed/?term=Python+software', width=800, height=400)"
   ]
  },
  {
   "cell_type": "markdown",
   "metadata": {},
   "source": [
    "<a id='section3'></a>\n",
    "## ***(3) Importing and Exporting data***\n",
    "##### [back to top](#section5)"
   ]
  },
  {
   "cell_type": "markdown",
   "metadata": {},
   "source": [
    "### ***a. text files***"
   ]
  },
  {
   "cell_type": "code",
   "execution_count": 6,
   "metadata": {
    "collapsed": false
   },
   "outputs": [
    {
     "data": {
      "text/html": [
       "<div>\n",
       "<table border=\"1\" class=\"dataframe\">\n",
       "  <thead>\n",
       "    <tr style=\"text-align: right;\">\n",
       "      <th></th>\n",
       "      <th>Animal</th>\n",
       "      <th>Cond</th>\n",
       "      <th>EKG0</th>\n",
       "      <th>EKG1</th>\n",
       "      <th>EKG2</th>\n",
       "    </tr>\n",
       "  </thead>\n",
       "  <tbody>\n",
       "    <tr>\n",
       "      <th>0</th>\n",
       "      <td>1</td>\n",
       "      <td>0.0</td>\n",
       "      <td>0.001582</td>\n",
       "      <td>0.001250</td>\n",
       "      <td>0.004771</td>\n",
       "    </tr>\n",
       "    <tr>\n",
       "      <th>1</th>\n",
       "      <td>2</td>\n",
       "      <td>0.0</td>\n",
       "      <td>0.002241</td>\n",
       "      <td>0.000957</td>\n",
       "      <td>0.002176</td>\n",
       "    </tr>\n",
       "    <tr>\n",
       "      <th>2</th>\n",
       "      <td>3</td>\n",
       "      <td>0.0</td>\n",
       "      <td>0.003509</td>\n",
       "      <td>0.002070</td>\n",
       "      <td>0.003817</td>\n",
       "    </tr>\n",
       "    <tr>\n",
       "      <th>3</th>\n",
       "      <td>4</td>\n",
       "      <td>0.0</td>\n",
       "      <td>0.002534</td>\n",
       "      <td>0.002672</td>\n",
       "      <td>0.004091</td>\n",
       "    </tr>\n",
       "    <tr>\n",
       "      <th>4</th>\n",
       "      <td>5</td>\n",
       "      <td>0.3</td>\n",
       "      <td>0.003734</td>\n",
       "      <td>0.019703</td>\n",
       "      <td>0.004989</td>\n",
       "    </tr>\n",
       "    <tr>\n",
       "      <th>5</th>\n",
       "      <td>6</td>\n",
       "      <td>0.3</td>\n",
       "      <td>0.003500</td>\n",
       "      <td>0.003510</td>\n",
       "      <td>0.002919</td>\n",
       "    </tr>\n",
       "    <tr>\n",
       "      <th>6</th>\n",
       "      <td>7</td>\n",
       "      <td>0.3</td>\n",
       "      <td>0.001603</td>\n",
       "      <td>0.002776</td>\n",
       "      <td>0.001818</td>\n",
       "    </tr>\n",
       "    <tr>\n",
       "      <th>7</th>\n",
       "      <td>8</td>\n",
       "      <td>0.3</td>\n",
       "      <td>0.000919</td>\n",
       "      <td>0.002925</td>\n",
       "      <td>0.003184</td>\n",
       "    </tr>\n",
       "    <tr>\n",
       "      <th>8</th>\n",
       "      <td>9</td>\n",
       "      <td>1.0</td>\n",
       "      <td>0.002388</td>\n",
       "      <td>0.000761</td>\n",
       "      <td>0.000165</td>\n",
       "    </tr>\n",
       "    <tr>\n",
       "      <th>9</th>\n",
       "      <td>10</td>\n",
       "      <td>1.0</td>\n",
       "      <td>0.001320</td>\n",
       "      <td>0.000971</td>\n",
       "      <td>0.000025</td>\n",
       "    </tr>\n",
       "    <tr>\n",
       "      <th>10</th>\n",
       "      <td>11</td>\n",
       "      <td>1.0</td>\n",
       "      <td>0.001621</td>\n",
       "      <td>0.001089</td>\n",
       "      <td>0.000371</td>\n",
       "    </tr>\n",
       "    <tr>\n",
       "      <th>11</th>\n",
       "      <td>12</td>\n",
       "      <td>1.0</td>\n",
       "      <td>0.003583</td>\n",
       "      <td>0.001332</td>\n",
       "      <td>0.000631</td>\n",
       "    </tr>\n",
       "    <tr>\n",
       "      <th>12</th>\n",
       "      <td>13</td>\n",
       "      <td>5.0</td>\n",
       "      <td>0.001060</td>\n",
       "      <td>0.001044</td>\n",
       "      <td>0.000008</td>\n",
       "    </tr>\n",
       "    <tr>\n",
       "      <th>13</th>\n",
       "      <td>14</td>\n",
       "      <td>5.0</td>\n",
       "      <td>0.000996</td>\n",
       "      <td>0.000635</td>\n",
       "      <td>0.000810</td>\n",
       "    </tr>\n",
       "    <tr>\n",
       "      <th>14</th>\n",
       "      <td>15</td>\n",
       "      <td>5.0</td>\n",
       "      <td>0.001255</td>\n",
       "      <td>0.001096</td>\n",
       "      <td>0.000211</td>\n",
       "    </tr>\n",
       "    <tr>\n",
       "      <th>15</th>\n",
       "      <td>16</td>\n",
       "      <td>5.0</td>\n",
       "      <td>0.001327</td>\n",
       "      <td>0.001211</td>\n",
       "      <td>0.000385</td>\n",
       "    </tr>\n",
       "    <tr>\n",
       "      <th>16</th>\n",
       "      <td>17</td>\n",
       "      <td>10.0</td>\n",
       "      <td>0.001717</td>\n",
       "      <td>0.010175</td>\n",
       "      <td>0.003385</td>\n",
       "    </tr>\n",
       "    <tr>\n",
       "      <th>17</th>\n",
       "      <td>18</td>\n",
       "      <td>10.0</td>\n",
       "      <td>0.002929</td>\n",
       "      <td>0.000016</td>\n",
       "      <td>0.001268</td>\n",
       "    </tr>\n",
       "    <tr>\n",
       "      <th>18</th>\n",
       "      <td>19</td>\n",
       "      <td>10.0</td>\n",
       "      <td>0.000975</td>\n",
       "      <td>0.001680</td>\n",
       "      <td>0.000607</td>\n",
       "    </tr>\n",
       "    <tr>\n",
       "      <th>19</th>\n",
       "      <td>20</td>\n",
       "      <td>10.0</td>\n",
       "      <td>0.000755</td>\n",
       "      <td>0.000891</td>\n",
       "      <td>0.001141</td>\n",
       "    </tr>\n",
       "  </tbody>\n",
       "</table>\n",
       "</div>"
      ],
      "text/plain": [
       "    Animal  Cond      EKG0      EKG1      EKG2\n",
       "0        1   0.0  0.001582  0.001250  0.004771\n",
       "1        2   0.0  0.002241  0.000957  0.002176\n",
       "2        3   0.0  0.003509  0.002070  0.003817\n",
       "3        4   0.0  0.002534  0.002672  0.004091\n",
       "4        5   0.3  0.003734  0.019703  0.004989\n",
       "5        6   0.3  0.003500  0.003510  0.002919\n",
       "6        7   0.3  0.001603  0.002776  0.001818\n",
       "7        8   0.3  0.000919  0.002925  0.003184\n",
       "8        9   1.0  0.002388  0.000761  0.000165\n",
       "9       10   1.0  0.001320  0.000971  0.000025\n",
       "10      11   1.0  0.001621  0.001089  0.000371\n",
       "11      12   1.0  0.003583  0.001332  0.000631\n",
       "12      13   5.0  0.001060  0.001044  0.000008\n",
       "13      14   5.0  0.000996  0.000635  0.000810\n",
       "14      15   5.0  0.001255  0.001096  0.000211\n",
       "15      16   5.0  0.001327  0.001211  0.000385\n",
       "16      17  10.0  0.001717  0.010175  0.003385\n",
       "17      18  10.0  0.002929  0.000016  0.001268\n",
       "18      19  10.0  0.000975  0.001680  0.000607\n",
       "19      20  10.0  0.000755  0.000891  0.001141"
      ]
     },
     "execution_count": 6,
     "metadata": {},
     "output_type": "execute_result"
    }
   ],
   "source": [
    "# import the Python module\n",
    "import pandas as pd\n",
    "\n",
    "# import CSV File containing heart rate variability in shrews at 3 times points (EKG0, EKG1, EKG2; within-subjects)\n",
    "# and under five conditions (0, 0.3, 1, 5, and 10; between-subjects)\n",
    "Text = pd.read_csv('DATA_FILES/Test.csv')\n",
    "Text"
   ]
  },
  {
   "cell_type": "code",
   "execution_count": 7,
   "metadata": {
    "collapsed": false
   },
   "outputs": [],
   "source": [
    "# make a directory if it does not exist\n",
    "import os\n",
    "if not os.path.exists(\"OUTPUT_FILES/\"):\n",
    "    os.makedirs(\"OUTPUT_FILES/\")\n",
    "\n",
    "# export data as an Excel spreadsheet\n",
    "Text.to_excel('OUTPUT_FILES/test.xls')"
   ]
  },
  {
   "cell_type": "markdown",
   "metadata": {},
   "source": [
    "### ***b. Electrophysiology signals***"
   ]
  },
  {
   "cell_type": "code",
   "execution_count": 8,
   "metadata": {
    "collapsed": false
   },
   "outputs": [
    {
     "name": "stdout",
     "output_type": "stream",
     "text": [
      "nerve_signal.smr:\n",
      "====================\n",
      "600976.0 data points\n",
      "30.0488 sec\n",
      "0.500813333333 min\n",
      "0.00834688888889 hr\n",
      "20,000 Hz\n"
     ]
    }
   ],
   "source": [
    "# load modules\n",
    "import pandas as pd\n",
    "import numpy as np\n",
    "import matplotlib.pyplot as plt\n",
    "import neo\n",
    "\n",
    "# use a plottign style in the notebook that is similar to ggplot2, see http://ggplot2.org/\n",
    "plt.style.use('ggplot')\n",
    "# plot the output of matplotlib commands in the notebook\n",
    "%matplotlib inline\n",
    "\n",
    "# import a Spike2 file (CED)\n",
    "filename='DATA_FILES/nerve_signal.smr'; r= neo.Spike2IO(filename)\n",
    "bl = r.read()[0]; asig = bl.segments[0].analogsignals[0]\n",
    "# keep the signal as a 16 bit float\n",
    "asig = np.float16(asig)\n",
    "# adjust for amplifier gain (in this example it is 20,000 and signals are microvolts)\n",
    "asig = asig * 50 \n",
    "pts = float(np.prod(asig.shape)); secs = pts/20000.0; mins = secs/60.0; hrs = mins/60\n",
    "print('{}:\\n===================='.format(filename.split('/')[-1]))\n",
    "print('{} data points\\n{} sec\\n{} min\\n{} hr\\n20,000 Hz'.format(\n",
    "    pts, secs, mins, hrs))"
   ]
  },
  {
   "cell_type": "code",
   "execution_count": 9,
   "metadata": {
    "collapsed": false
   },
   "outputs": [
    {
     "data": {
      "image/png": "[encoded data removed]",
      "text/plain": [
       "<matplotlib.figure.Figure at 0x7f8e953a0f10>"
      ]
     },
     "metadata": {},
     "output_type": "display_data"
    }
   ],
   "source": [
    "# plot data\n",
    "# limit the time range\n",
    "begin = 0; end = 100000\n",
    "fig, ax = plt.subplots(1, 1, figsize=(8, 3))\n",
    "ax.plot(asig, 'b') # b = blue\n",
    "ax.set_xlabel('data points', fontsize=12)\n",
    "ax.set_ylabel('microvolts', fontsize=12)\n",
    "ax.set_xlim(begin,end)\n",
    "plt.grid()\n",
    "plt.tight_layout()"
   ]
  },
  {
   "cell_type": "code",
   "execution_count": 10,
   "metadata": {
    "collapsed": false
   },
   "outputs": [],
   "source": [
    "# save data to an HDF5 file type to share\n",
    "# first remove any previously created files from running this cell\n",
    "import os\n",
    "try:\n",
    "    os.remove(\"OUTPUT_FILES/nerve_signal.h5\")\n",
    "except OSError:\n",
    "    pass\n",
    "# use a start and end time in seconds (to select different parts of the file)\n",
    "start = 0; end = 20; newfilename = \"OUTPUT_FILES/nerve_signal.h5\"\n",
    "# convert sec to pts using the sampling rate (20,000); adjust to match your files\n",
    "start1 = start * 20000; end1 = end * 20000\n",
    "# create the new array\n",
    "new_asig = asig[start1:end1]\n",
    "# Write a new Block>Segment>AnalogSignal Hierarchy from the ground up\n",
    "# make a segment\n",
    "seg = neo.Segment(); seg.name = 'New segment'\n",
    "seg.description = 'Sample'; seg.index = 0\n",
    "seg.analogsignals = []; seg.analogsignals.append(new_asig)\n",
    "# make a recording channel\n",
    "rec = neo.RecordingChannel(); rec.analogsignals = []\n",
    "rec.analogsignals.append(new_asig)\n",
    "# make a recording channel group\n",
    "recg = neo.RecordingChannelGroup(); recg.recordingchannels = []\n",
    "recg.recordingchannels.append(rec); recg.name = 'New group'\n",
    "# make a block ... finally!\n",
    "b = neo.Block(); b.name = 'New block'\n",
    "b.segments = []; b.segments.append(seg)\n",
    "b.recordingchannelgroups = []; b.recordingchannelgroups.append(recg)\n",
    "# Write the block to a new HDF5 file:\n",
    "w = neo.io.NeoHdf5IO(newfilename)\n",
    "w.write_block(b)\n",
    "w.close()"
   ]
  },
  {
   "cell_type": "markdown",
   "metadata": {},
   "source": [
    "<a id='section4'></a>\n",
    "## ***(4) Saving notebooks***\n",
    "##### [back to top](#section5)"
   ]
  },
  {
   "cell_type": "code",
   "execution_count": 11,
   "metadata": {
    "collapsed": true
   },
   "outputs": [],
   "source": [
    "# grabbing the name of the current notebook and printing the name\n",
    "# if the print statement does not work, rerun the code for the following 3 cells"
   ]
  },
  {
   "cell_type": "code",
   "execution_count": 12,
   "metadata": {
    "collapsed": false
   },
   "outputs": [
    {
     "data": {
      "application/javascript": [
       "var nb = IPython.notebook;\n",
       "var kernel = IPython.notebook.kernel;\n",
       "var command = \"NotebookName = '\" + IPython.notebook.notebook_name + \"'\";\n",
       "kernel.execute(command);"
      ],
      "text/plain": [
       "<IPython.core.display.Javascript object>"
      ]
     },
     "metadata": {},
     "output_type": "display_data"
    }
   ],
   "source": [
    "%%javascript\n",
    "var nb = IPython.notebook;\n",
    "var kernel = IPython.notebook.kernel;\n",
    "var command = \"NotebookName = '\" + IPython.notebook.notebook_name + \"'\";\n",
    "kernel.execute(command);"
   ]
  },
  {
   "cell_type": "code",
   "execution_count": 13,
   "metadata": {
    "collapsed": false
   },
   "outputs": [
    {
     "name": "stdout",
     "output_type": "stream",
     "text": [
      "Content_types.ipynb\n"
     ]
    }
   ],
   "source": [
    "print(NotebookName)"
   ]
  },
  {
   "cell_type": "code",
   "execution_count": 14,
   "metadata": {
    "collapsed": false
   },
   "outputs": [
    {
     "data": {
      "text/plain": [
       "0"
      ]
     },
     "execution_count": 14,
     "metadata": {},
     "output_type": "execute_result"
    }
   ],
   "source": [
    "## Saving the notebook to html and moving to directory\n",
    "import os\n",
    "import subprocess\n",
    "subprocess.call('jupyter nbconvert '+NotebookName,shell=True)"
   ]
  },
  {
   "cell_type": "code",
   "execution_count": null,
   "metadata": {
    "collapsed": true
   },
   "outputs": [],
   "source": []
  }
 ],
 "metadata": {
  "kernelspec": {
   "display_name": "Python 2",
   "language": "python",
   "name": "python2"
  },
  "language_info": {
   "codemirror_mode": {
    "name": "ipython",
    "version": 2
   },
   "file_extension": ".py",
   "mimetype": "text/x-python",
   "name": "python",
   "nbconvert_exporter": "python",
   "pygments_lexer": "ipython2",
   "version": "2.7.11"
  }
 },
 "nbformat": 4,
 "nbformat_minor": 0
}
