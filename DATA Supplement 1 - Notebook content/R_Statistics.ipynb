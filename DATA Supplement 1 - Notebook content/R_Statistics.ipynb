{
 "cells": [
  {
   "cell_type": "markdown",
   "metadata": {},
   "source": [
    "<a id='section11'></a>\n",
    "# Index\n",
    "1. [***Check Python package versions***](#section1)  \n",
    "2. [***Import a text file of data using Python***](#section2) \n",
    "3. [***Load the \"rpy2\" package to run R commands in a Python notebook and check R packages***](#section3)   \n",
    "4. [***Transfer the data from Python to R***](#section4)\n",
    "5. [***Another way is to load the text file directly into R***](#section5)\n",
    "6. [***Convert the data from wide to long so that the repeated measures factor will load properly for analysis***](#section6)\n",
    "7. [***Use the R \"plyr\" package to view descriptive statistics***](#section7)\n",
    "8. [***Use the R \"ez\" package to complete an ANOVA***](#section8)\n",
    "9. [***Use the R \"ggplot2\" package to plot the data***](#section9)\n",
    "10. [***Save the notebook***](#section10)\n",
    "\n",
    "----------------   \n",
    "\n",
    "----------------    "
   ]
  },
  {
   "cell_type": "markdown",
   "metadata": {},
   "source": [
    "<a id='section1'></a>\n",
    "## ***(1) Check Python package versions***\n",
    "##### [back to top](#section11)"
   ]
  },
  {
   "cell_type": "code",
   "execution_count": 1,
   "metadata": {
    "collapsed": false
   },
   "outputs": [
    {
     "name": "stdout",
     "output_type": "stream",
     "text": [
      "2.7.11 |Anaconda 2.5.0 (64-bit)| (default, Dec  6 2015, 18:08:32) \n",
      "[GCC 4.4.7 20120313 (Red Hat 4.4.7-1)]\n"
     ]
    }
   ],
   "source": [
    "# Which version of Python is installed?\n",
    "import sys\n",
    "print(sys.version)"
   ]
  },
  {
   "cell_type": "code",
   "execution_count": 2,
   "metadata": {
    "collapsed": false
   },
   "outputs": [
    {
     "name": "stdout",
     "output_type": "stream",
     "text": [
      "pandas 0.17.1\n",
      "rpy2 2.7.8\n",
      "pip 8.1.1\n"
     ]
    }
   ],
   "source": [
    "# Which Python package versions are installed?\n",
    "import pip\n",
    "all_packages = pip.get_installed_distributions()\n",
    "used_packages = ['pandas', 'rpy2', 'pip']\n",
    "\n",
    "for entry in used_packages:\n",
    "    for p in all_packages:\n",
    "        if entry in str(p):\n",
    "            print(str(p))"
   ]
  },
  {
   "cell_type": "markdown",
   "metadata": {},
   "source": [
    "<a id='section2'></a>\n",
    "## ***(2) Import a text file of data using Python***\n",
    "##### [back to top](#section11)"
   ]
  },
  {
   "cell_type": "code",
   "execution_count": 3,
   "metadata": {
    "collapsed": false
   },
   "outputs": [
    {
     "data": {
      "text/html": [
       "<div>\n",
       "<table border=\"1\" class=\"dataframe\">\n",
       "  <thead>\n",
       "    <tr style=\"text-align: right;\">\n",
       "      <th></th>\n",
       "      <th>Animal</th>\n",
       "      <th>Cond</th>\n",
       "      <th>EKG0</th>\n",
       "      <th>EKG1</th>\n",
       "      <th>EKG2</th>\n",
       "    </tr>\n",
       "  </thead>\n",
       "  <tbody>\n",
       "    <tr>\n",
       "      <th>0</th>\n",
       "      <td>1</td>\n",
       "      <td>0</td>\n",
       "      <td>0.001582</td>\n",
       "      <td>0.001250</td>\n",
       "      <td>0.004771</td>\n",
       "    </tr>\n",
       "    <tr>\n",
       "      <th>1</th>\n",
       "      <td>2</td>\n",
       "      <td>0</td>\n",
       "      <td>0.002241</td>\n",
       "      <td>0.000957</td>\n",
       "      <td>0.002176</td>\n",
       "    </tr>\n",
       "    <tr>\n",
       "      <th>2</th>\n",
       "      <td>3</td>\n",
       "      <td>0</td>\n",
       "      <td>0.003509</td>\n",
       "      <td>0.002070</td>\n",
       "      <td>0.003817</td>\n",
       "    </tr>\n",
       "  </tbody>\n",
       "</table>\n",
       "</div>"
      ],
      "text/plain": [
       "   Animal  Cond      EKG0      EKG1      EKG2\n",
       "0       1     0  0.001582  0.001250  0.004771\n",
       "1       2     0  0.002241  0.000957  0.002176\n",
       "2       3     0  0.003509  0.002070  0.003817"
      ]
     },
     "execution_count": 3,
     "metadata": {},
     "output_type": "execute_result"
    }
   ],
   "source": [
    "# import the Python module\n",
    "import pandas as pd\n",
    "\n",
    "# import CSV File containing heart rate variability in shrews at 3 times points (EKG0, EKG1, EKG2; within-subjects)\n",
    "# and under five conditions (0, 0.3, 1, 5, and 10; between-subjects)\n",
    "Text_in_Python = pd.read_csv('DATA_FILES/Test.csv')\n",
    "# let's only display the first 3 rows\n",
    "Text_in_Python.head(3)"
   ]
  },
  {
   "cell_type": "markdown",
   "metadata": {},
   "source": [
    "<a id='section3'></a>\n",
    "## ***(3) Load the \"rpy2\" package to run R commands in a Python notebook and check R packages***\n",
    "##### [back to top](#section11)"
   ]
  },
  {
   "cell_type": "code",
   "execution_count": 4,
   "metadata": {
    "collapsed": false,
    "scrolled": true
   },
   "outputs": [],
   "source": [
    "%load_ext rpy2.ipython"
   ]
  },
  {
   "cell_type": "code",
   "execution_count": 5,
   "metadata": {
    "collapsed": false
   },
   "outputs": [
    {
     "data": {
      "text/plain": [
       "[1] \"R version 3.2.2 (2015-08-14)\"\n"
      ]
     },
     "metadata": {},
     "output_type": "display_data"
    }
   ],
   "source": [
    "%%R\n",
    "# Which version of R is installed?\n",
    "R.version.string"
   ]
  },
  {
   "cell_type": "code",
   "execution_count": 6,
   "metadata": {
    "collapsed": false
   },
   "outputs": [
    {
     "data": {
      "text/plain": [
       "reshape2       ez     plyr  ggplot2 \n",
       " \"1.4.1\"    \"4.3\"  \"1.8.3\"  \"1.0.1\" \n"
      ]
     },
     "metadata": {},
     "output_type": "display_data"
    }
   ],
   "source": [
    "%%R\n",
    "# Which R packages are installed?\n",
    "packages <- c(\"reshape2\", \"ez\", \"plyr\", \"ggplot2\")\n",
    "sapply(packages, packageDescription, fields = \"Version\")"
   ]
  },
  {
   "cell_type": "markdown",
   "metadata": {},
   "source": [
    "<a id='section4'></a>\n",
    "## ***(4) Transfer the data from Python to R***\n",
    "##### [back to top](#section11)"
   ]
  },
  {
   "cell_type": "code",
   "execution_count": 7,
   "metadata": {
    "collapsed": false
   },
   "outputs": [
    {
     "data": {
      "text/plain": [
       "   Animal Cond         EKG0         EKG1         EKG2\n",
       "0       1  0.0 0.0015820377 0.0012501746 4.771493e-03\n",
       "1       2  0.0 0.0022409076 0.0009570781 2.175935e-03\n",
       "2       3  0.0 0.0035091349 0.0020700662 3.817422e-03\n",
       "3       4  0.0 0.0025342004 0.0026723599 4.091167e-03\n",
       "4       5  0.3 0.0037336118 0.0197033480 4.988560e-03\n",
       "5       6  0.3 0.0035002617 0.0035102697 2.919219e-03\n",
       "6       7  0.3 0.0016033409 0.0027758780 1.818235e-03\n",
       "7       8  0.3 0.0009185860 0.0029250079 3.184348e-03\n",
       "8       9  1.0 0.0023883633 0.0007612123 1.646750e-04\n",
       "9      10  1.0 0.0013197145 0.0009709432 2.496306e-05\n",
       "10     11  1.0 0.0016207909 0.0010893986 3.707651e-04\n",
       "11     12  1.0 0.0035831894 0.0013318623 6.306695e-04\n",
       "12     13  5.0 0.0010597949 0.0010441496 7.821470e-06\n",
       "13     14  5.0 0.0009959162 0.0006349528 8.101859e-04\n",
       "14     15  5.0 0.0012551011 0.0010957923 2.110545e-04\n",
       "15     16  5.0 0.0013267764 0.0012108684 3.850106e-04\n",
       "16     17 10.0 0.0017170664 0.0101745064 3.385297e-03\n",
       "17     18 10.0 0.0029291846 0.0000157119 1.267704e-03\n",
       "18     19 10.0 0.0009746104 0.0016803220 6.068465e-04\n",
       "19     20 10.0 0.0007552507 0.0008913930 1.141273e-03\n"
      ]
     },
     "metadata": {},
     "output_type": "display_data"
    }
   ],
   "source": [
    "%%R -i Text_in_Python\n",
    "# load dataframe into R\n",
    "Text_in_Python"
   ]
  },
  {
   "cell_type": "markdown",
   "metadata": {},
   "source": [
    "<a id='section5'></a>\n",
    "## ***(5) Another way is to load the text file directly into R***\n",
    "##### [back to top](#section11)"
   ]
  },
  {
   "cell_type": "code",
   "execution_count": 8,
   "metadata": {
    "collapsed": false
   },
   "outputs": [
    {
     "data": {
      "text/plain": [
       "   Animal Cond         EKG0         EKG1         EKG2\n",
       "1       1  0.0 0.0015820377 0.0012501746 4.771493e-03\n",
       "2       2  0.0 0.0022409076 0.0009570781 2.175935e-03\n",
       "3       3  0.0 0.0035091349 0.0020700662 3.817422e-03\n",
       "4       4  0.0 0.0025342004 0.0026723599 4.091167e-03\n",
       "5       5  0.3 0.0037336118 0.0197033480 4.988560e-03\n",
       "6       6  0.3 0.0035002617 0.0035102697 2.919219e-03\n",
       "7       7  0.3 0.0016033409 0.0027758780 1.818235e-03\n",
       "8       8  0.3 0.0009185860 0.0029250079 3.184348e-03\n",
       "9       9  1.0 0.0023883633 0.0007612123 1.646750e-04\n",
       "10     10  1.0 0.0013197145 0.0009709432 2.496306e-05\n",
       "11     11  1.0 0.0016207909 0.0010893986 3.707651e-04\n",
       "12     12  1.0 0.0035831894 0.0013318623 6.306695e-04\n",
       "13     13  5.0 0.0010597949 0.0010441496 7.821470e-06\n",
       "14     14  5.0 0.0009959162 0.0006349528 8.101859e-04\n",
       "15     15  5.0 0.0012551011 0.0010957923 2.110545e-04\n",
       "16     16  5.0 0.0013267764 0.0012108684 3.850106e-04\n",
       "17     17 10.0 0.0017170664 0.0101745064 3.385297e-03\n",
       "18     18 10.0 0.0029291846 0.0000157119 1.267704e-03\n",
       "19     19 10.0 0.0009746104 0.0016803220 6.068465e-04\n",
       "20     20 10.0 0.0007552507 0.0008913930 1.141273e-03\n"
      ]
     },
     "metadata": {},
     "output_type": "display_data"
    }
   ],
   "source": [
    "%%R\n",
    "#Load raw data into R\n",
    "Text_import = read.csv(\"DATA_FILES/Test.csv\")\n",
    "Text_import"
   ]
  },
  {
   "cell_type": "markdown",
   "metadata": {},
   "source": [
    "<a id='section6'></a>\n",
    "## ***(6) Convert the data from wide to long so that the repeated measures factor will load properly for analysis***\n",
    "##### [back to top](#section11)"
   ]
  },
  {
   "cell_type": "code",
   "execution_count": 9,
   "metadata": {
    "collapsed": false
   },
   "outputs": [
    {
     "data": {
      "text/plain": [
       "   Animal   Cond Time        value\n",
       "1       1   0 ms EKG0 1.582038e-03\n",
       "2       2   0 ms EKG0 2.240908e-03\n",
       "3       3   0 ms EKG0 3.509135e-03\n",
       "4       4   0 ms EKG0 2.534200e-03\n",
       "5       5 0.3 ms EKG0 3.733612e-03\n",
       "6       6 0.3 ms EKG0 3.500262e-03\n",
       "7       7 0.3 ms EKG0 1.603341e-03\n",
       "8       8 0.3 ms EKG0 9.185860e-04\n",
       "9       9   1 ms EKG0 2.388363e-03\n",
       "10     10   1 ms EKG0 1.319714e-03\n",
       "11     11   1 ms EKG0 1.620791e-03\n",
       "12     12   1 ms EKG0 3.583189e-03\n",
       "13     13   5 ms EKG0 1.059795e-03\n",
       "14     14   5 ms EKG0 9.959162e-04\n",
       "15     15   5 ms EKG0 1.255101e-03\n",
       "16     16   5 ms EKG0 1.326776e-03\n",
       "17     17  10 ms EKG0 1.717066e-03\n",
       "18     18  10 ms EKG0 2.929185e-03\n",
       "19     19  10 ms EKG0 9.746104e-04\n",
       "20     20  10 ms EKG0 7.552507e-04\n",
       "21      1   0 ms EKG1 1.250175e-03\n",
       "22      2   0 ms EKG1 9.570781e-04\n",
       "23      3   0 ms EKG1 2.070066e-03\n",
       "24      4   0 ms EKG1 2.672360e-03\n",
       "25      5 0.3 ms EKG1 1.970335e-02\n",
       "26      6 0.3 ms EKG1 3.510270e-03\n",
       "27      7 0.3 ms EKG1 2.775878e-03\n",
       "28      8 0.3 ms EKG1 2.925008e-03\n",
       "29      9   1 ms EKG1 7.612123e-04\n",
       "30     10   1 ms EKG1 9.709432e-04\n",
       "31     11   1 ms EKG1 1.089399e-03\n",
       "32     12   1 ms EKG1 1.331862e-03\n",
       "33     13   5 ms EKG1 1.044150e-03\n",
       "34     14   5 ms EKG1 6.349528e-04\n",
       "35     15   5 ms EKG1 1.095792e-03\n",
       "36     16   5 ms EKG1 1.210868e-03\n",
       "37     17  10 ms EKG1 1.017451e-02\n",
       "38     18  10 ms EKG1 1.571190e-05\n",
       "39     19  10 ms EKG1 1.680322e-03\n",
       "40     20  10 ms EKG1 8.913930e-04\n",
       "41      1   0 ms EKG2 4.771493e-03\n",
       "42      2   0 ms EKG2 2.175935e-03\n",
       "43      3   0 ms EKG2 3.817422e-03\n",
       "44      4   0 ms EKG2 4.091167e-03\n",
       "45      5 0.3 ms EKG2 4.988560e-03\n",
       "46      6 0.3 ms EKG2 2.919219e-03\n",
       "47      7 0.3 ms EKG2 1.818235e-03\n",
       "48      8 0.3 ms EKG2 3.184348e-03\n",
       "49      9   1 ms EKG2 1.646750e-04\n",
       "50     10   1 ms EKG2 2.496306e-05\n",
       "51     11   1 ms EKG2 3.707651e-04\n",
       "52     12   1 ms EKG2 6.306695e-04\n",
       "53     13   5 ms EKG2 7.821470e-06\n",
       "54     14   5 ms EKG2 8.101859e-04\n",
       "55     15   5 ms EKG2 2.110545e-04\n",
       "56     16   5 ms EKG2 3.850106e-04\n",
       "57     17  10 ms EKG2 3.385297e-03\n",
       "58     18  10 ms EKG2 1.267704e-03\n",
       "59     19  10 ms EKG2 6.068465e-04\n",
       "60     20  10 ms EKG2 1.141273e-03\n"
      ]
     },
     "metadata": {},
     "output_type": "display_data"
    }
   ],
   "source": [
    "%%R\n",
    "# load the reshape2 package to convert from wide to long\n",
    "library(reshape2)\n",
    "Long = melt(Text_import, id.vars=c(\"Animal\",\"Cond\"), variable.name=\"Time\")\n",
    "# relabel the factor names\n",
    "Long$Cond[Long$Cond == '0'] = '0 ms'\n",
    "Long$Cond[Long$Cond == '0.3'] = '0.3 ms'\n",
    "Long$Cond[Long$Cond == '1'] = '1 ms'\n",
    "Long$Cond[Long$Cond == '5'] = '5 ms'\n",
    "Long$Cond[Long$Cond == '10'] = '10 ms'\n",
    "Long"
   ]
  },
  {
   "cell_type": "markdown",
   "metadata": {},
   "source": [
    "<a id='section7'></a>\n",
    "## ***(7) Use the R \"plyr\" package to view descriptive statistics***\n",
    "##### [back to top](#section11)"
   ]
  },
  {
   "cell_type": "code",
   "execution_count": 10,
   "metadata": {
    "collapsed": false
   },
   "outputs": [
    {
     "data": {
      "text/plain": [
       "     Cond Time    mean      SD     sem\n",
       "1  0.3 ms EKG0 0.00244 0.00139 7.0e-04\n",
       "2  0.3 ms EKG1 0.00723 0.00832 4.2e-03\n",
       "3  0.3 ms EKG2 0.00323 0.00131 6.6e-04\n",
       "4    0 ms EKG0 0.00247 0.00080 4.0e-04\n",
       "5    0 ms EKG1 0.00174 0.00078 3.9e-04\n",
       "6    0 ms EKG2 0.00371 0.00110 5.5e-04\n",
       "7   10 ms EKG0 0.00159 0.00098 4.9e-04\n",
       "8   10 ms EKG1 0.00319 0.00471 2.4e-03\n",
       "9   10 ms EKG2 0.00160 0.00122 6.1e-04\n",
       "10   1 ms EKG0 0.00223 0.00101 5.0e-04\n",
       "11   1 ms EKG1 0.00104 0.00024 1.2e-04\n",
       "12   1 ms EKG2 0.00030 0.00026 1.3e-04\n",
       "13   5 ms EKG0 0.00116 0.00016 7.8e-05\n",
       "14   5 ms EKG1 0.00100 0.00025 1.3e-04\n",
       "15   5 ms EKG2 0.00035 0.00034 1.7e-04\n"
      ]
     },
     "metadata": {},
     "output_type": "display_data"
    }
   ],
   "source": [
    "%%R\n",
    "# load the plyr package\n",
    "library(plyr)\n",
    "# set the number of digits to two\n",
    "options(digits=2)\n",
    "# create a table \n",
    "# showing the mean, standard deviation, and standard error of the mean for each group\n",
    "means = ddply(Long, .(Cond,Time), colwise(mean, .(value)))\n",
    "# compute the standard deviation\n",
    "SD = ddply(Long, .(Cond,Time), colwise(sd, .(value)))\n",
    "means$SD = SD$value\n",
    "# add a new column to the dataframe with the standard error of the mean\n",
    "means$sem = SD$value/sqrt(4)\n",
    "# Rename the column to \"mean\"\n",
    "colnames(means)[colnames(means)==\"value\"] = \"mean\"\n",
    "# print\n",
    "means"
   ]
  },
  {
   "cell_type": "markdown",
   "metadata": {
    "collapsed": true
   },
   "source": [
    "<a id='section8'></a>\n",
    "## ***(8) Use the R \"ez\" package to complete an ANOVA***\n",
    "##### [back to top](#section11)"
   ]
  },
  {
   "cell_type": "code",
   "execution_count": 11,
   "metadata": {
    "collapsed": false
   },
   "outputs": [
    {
     "data": {
      "text/plain": [
       "$ANOVA\n",
       "     Effect DFn DFd   F    p p<.05   ges\n",
       "2      Cond   4  15 2.2 0.11       0.228\n",
       "3      Time   2  30 1.1 0.33       0.037\n",
       "4 Cond:Time   8  30 1.6 0.17       0.176\n",
       "\n",
       "$`Mauchly's Test for Sphericity`\n",
       "     Effect    W       p p<.05\n",
       "3      Time 0.21 1.6e-05     *\n",
       "4 Cond:Time 0.21 1.6e-05     *\n",
       "\n",
       "$`Sphericity Corrections`\n",
       "     Effect  GGe p[GG] p[GG]<.05  HFe p[HF] p[HF]<.05\n",
       "3      Time 0.56  0.31           0.57  0.31          \n",
       "4 Cond:Time 0.56  0.22           0.57  0.22          \n",
       "\n"
      ]
     },
     "metadata": {},
     "output_type": "display_data"
    }
   ],
   "source": [
    "%%R\n",
    "# load the ez package\n",
    "library(ez)\n",
    "# set the variables \"Cond\", \"Time\", and \"Animal\" (subjects) as Factors\n",
    "Long$Cond = as.factor(Long$Cond)\n",
    "Long$Time = as.factor(Long$Time)\n",
    "Long$Animal = as.factor(Long$Animal)\n",
    "# set the variable \"value\" as the dependent measure\n",
    "Long$value = as.numeric(Long$value)\n",
    "# run ANOVA\n",
    "ezANOVA(data=Long, dv=value, wid=Animal, between=Cond, within=Time)"
   ]
  },
  {
   "cell_type": "markdown",
   "metadata": {},
   "source": [
    "<a id='section9'></a>\n",
    "## ***(9) Use the R \"ggplot2\" package to plot the data***\n",
    "##### [back to top](#section11)"
   ]
  },
  {
   "cell_type": "code",
   "execution_count": 12,
   "metadata": {
    "collapsed": false
   },
   "outputs": [
    {
     "data": {
      "image/png": "[encoded data removed]"
     },
     "metadata": {},
     "output_type": "display_data"
    }
   ],
   "source": [
    "%%R\n",
    "# load the package\n",
    "library(ggplot2)\n",
    "# adjust the position of the bars\n",
    "dodge = position_dodge(width=0.9)\n",
    "# create the plot\n",
    "ggplot(means, aes(color, fill=Cond, y=mean, x=Time))+ \n",
    "    geom_bar(stat='identity', color='black',position='dodge') + \n",
    "    theme(axis.text.x = element_text(angle = 0), text = element_text(size = 25)) +\n",
    "    labs(x = \"Time\", y = \"Standard deviation of the interval\", fill= \"\") +\n",
    "    geom_errorbar(position=dodge, aes(ymin=mean-sem,ymax=mean+sem), width=.2) +\n",
    "    scale_y_continuous(breaks=seq(0, 0.01, 0.001))"
   ]
  },
  {
   "cell_type": "markdown",
   "metadata": {},
   "source": [
    "<a id='section10'></a>\n",
    "## ***(10) Save the notebook***\n",
    "##### [back to top](#section11)"
   ]
  },
  {
   "cell_type": "code",
   "execution_count": 13,
   "metadata": {
    "collapsed": true
   },
   "outputs": [],
   "source": [
    "# grabbing the name of the current notebook and printing the name\n",
    "# if the print statement does not work, rerun the code for the following 3 cells"
   ]
  },
  {
   "cell_type": "code",
   "execution_count": 14,
   "metadata": {
    "collapsed": false
   },
   "outputs": [
    {
     "data": {
      "application/javascript": [
       "var nb = IPython.notebook;\n",
       "var kernel = IPython.notebook.kernel;\n",
       "var command = \"NotebookName = '\" + IPython.notebook.notebook_name + \"'\";\n",
       "kernel.execute(command);"
      ],
      "text/plain": [
       "<IPython.core.display.Javascript object>"
      ]
     },
     "metadata": {},
     "output_type": "display_data"
    }
   ],
   "source": [
    "%%javascript\n",
    "var nb = IPython.notebook;\n",
    "var kernel = IPython.notebook.kernel;\n",
    "var command = \"NotebookName = '\" + IPython.notebook.notebook_name + \"'\";\n",
    "kernel.execute(command);"
   ]
  },
  {
   "cell_type": "code",
   "execution_count": 15,
   "metadata": {
    "collapsed": false
   },
   "outputs": [
    {
     "name": "stdout",
     "output_type": "stream",
     "text": [
      "R_Statistics.ipynb\n"
     ]
    }
   ],
   "source": [
    "print(NotebookName)"
   ]
  },
  {
   "cell_type": "code",
   "execution_count": 16,
   "metadata": {
    "collapsed": false
   },
   "outputs": [
    {
     "data": {
      "text/plain": [
       "0"
      ]
     },
     "execution_count": 16,
     "metadata": {},
     "output_type": "execute_result"
    }
   ],
   "source": [
    "## Saving the notebook to html and moving to directory\n",
    "import os\n",
    "import subprocess\n",
    "subprocess.call('jupyter nbconvert '+NotebookName,shell=True)"
   ]
  },
  {
   "cell_type": "code",
   "execution_count": null,
   "metadata": {
    "collapsed": true
   },
   "outputs": [],
   "source": []
  }
 ],
 "metadata": {
  "kernelspec": {
   "display_name": "Python 2",
   "language": "python",
   "name": "python2"
  },
  "language_info": {
   "codemirror_mode": {
    "name": "ipython",
    "version": 2
   },
   "file_extension": ".py",
   "mimetype": "text/x-python",
   "name": "python",
   "nbconvert_exporter": "python",
   "pygments_lexer": "ipython2",
   "version": "2.7.11"
  }
 },
 "nbformat": 4,
 "nbformat_minor": 0
}
